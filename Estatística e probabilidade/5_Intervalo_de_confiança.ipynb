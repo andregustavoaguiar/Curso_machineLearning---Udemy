{
  "nbformat": 4,
  "nbformat_minor": 0,
  "metadata": {
    "colab": {
      "provenance": [],
      "authorship_tag": "ABX9TyPzwR965R9NdzhVL+SV3cqQ",
      "include_colab_link": true
    },
    "kernelspec": {
      "name": "python3",
      "display_name": "Python 3"
    },
    "language_info": {
      "name": "python"
    }
  },
  "cells": [
    {
      "cell_type": "markdown",
      "metadata": {
        "id": "view-in-github",
        "colab_type": "text"
      },
      "source": [
        "<a href=\"https://colab.research.google.com/github/andregustavoaguiar/Curso_machineLearning---Udemy/blob/main/Estat%C3%ADstica%20e%20probabilidade/5_Intervalo_de_confian%C3%A7a.ipynb\" target=\"_parent\"><img src=\"https://colab.research.google.com/assets/colab-badge.svg\" alt=\"Open In Colab\"/></a>"
      ]
    },
    {
      "cell_type": "markdown",
      "source": [
        "#<u>**Intervalo de confiança**</u>\n",
        "---\n",
        "Probabilidade de que o intervalo estimado contenha o parâmetro populacional.<br>\n",
        "Esse nível de confiança $(c)$ é a área sob a curva normal padrão entre os valores críticos ($-Zc$ e $Zc$) <br>\n",
        "No gráfico de sino, nas duas extremidades, o nivel abaixo de $-Zc$ e acima de $Zc$ nos temos igualmente $(\\frac{1-C}{2})$. <br>\n",
        "Níveis de confiança mais utilizados:\n",
        "\n",
        "| Nível de confiança | Zc |\n",
        "|----------|----------|\n",
        "| 90%   | 1,645   |\n",
        "| 95%   | 1,96   |\n",
        "| 99%   | 2,575  |\n",
        "\n",
        "Ex: se tivermos o nivel de confiança de $0,95$ (ou 95%), usando a fórmula teremos o valor de $0,025$(ou 2,5%) para cada lado. Somando: 0,95 + 0,95 + 0,025 = 100%.\n"
      ],
      "metadata": {
        "id": "NSJsWvIq_wwL"
      }
    },
    {
      "cell_type": "markdown",
      "source": [
        "##Margem de erro ou erro maximo da estimativa (E)\n",
        "$E=Z_c.\\frac{σ}{\\sqrt{n}}$ <br>\n",
        "onde:<br>\n",
        "($Zc$) É a tabela mostrada anteriormente<br>\n",
        "($\\sigma$) Desvio padrão<br>\n",
        "($\\sqrt{n}$) É o número de amostras<br>\n",
        "##Intervalor de confiança para a média populacional\n",
        "$x̄ - E < \\mu < x̄ + E$ <br>\n",
        "onde:<br>\n",
        "(x̄) - Média amostral\n",
        "(E) - calculo da margem de erro maximo de estimativa<br>\n",
        "\n",
        "exemplo: <br>\n",
        "O gerente de um setor de uma empresa multinacional\n",
        "deseja estimar a idade média de todos os funcionários de um setor em\n",
        "todas as suas filiais. Em uma amostragem de 70 funcionários, a idade\n",
        "média encontrada foi de 26 anos. Considere a população normalmente\n",
        "distribuída e que o desvio padrão seja de 5 anos (com base em estudos\n",
        "anteriores). Construa um intervalo de confiança de 90% para a média\n",
        "de idade da população de todos os funcionários. <br>\n",
        "Primeiro descobrir pela tabela, o nível de confiança:<br>\n",
        "90% = 1,645<br>\n",
        "$E=Z_c.\\frac{σ}{\\sqrt{n}}$ <br>\n",
        "$E=1.96.\\frac{5}{\\sqrt{70}}$ <br>\n",
        "$E = 0,983 ~= 1$\n",
        "então: <br>\n",
        "$x̄ - E < \\mu < x̄ + E$ <br>\n",
        "$25 < \\mu < 27$ <br>\n",
        "Conclusão: <br>\n",
        "Tendo 90% de confiança, a média de todas as idades de todos os funcionários de todas as filiais, está entre 25 anos e 27 anos. (é a média, e nao o mínimo e máximo).\n"
      ],
      "metadata": {
        "id": "di4saz5MFLaG"
      }
    },
    {
      "cell_type": "markdown",
      "source": [
        "##Tamanho mínimo para amostragem\n",
        "$n=(\\frac{Z_c\\sigma}{E})^2$<br>\n",
        "Do exemplo anterior, quantos funcionários, no mínimo, devem ser consultados para o gerente ficar 95% confiante dentro de uma margem de erro de 1 ano?<br>\n",
        "$n=(\\frac{1,06.5}{1})^2$<br>\n",
        "n=96,04<br>\n",
        "No mínimo temos que ter 97 estudantes!\n",
        "\n"
      ],
      "metadata": {
        "id": "LA_gatjtJ3DG"
      }
    }
  ]
}