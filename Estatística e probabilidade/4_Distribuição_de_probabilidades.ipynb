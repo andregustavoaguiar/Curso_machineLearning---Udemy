{
  "nbformat": 4,
  "nbformat_minor": 0,
  "metadata": {
    "colab": {
      "provenance": [],
      "authorship_tag": "ABX9TyOyki41iAIBdzeWQg1sFCpq",
      "include_colab_link": true
    },
    "kernelspec": {
      "name": "python3",
      "display_name": "Python 3"
    },
    "language_info": {
      "name": "python"
    }
  },
  "cells": [
    {
      "cell_type": "markdown",
      "metadata": {
        "id": "view-in-github",
        "colab_type": "text"
      },
      "source": [
        "<a href=\"https://colab.research.google.com/github/andregustavoaguiar/Curso_machineLearning---Udemy/blob/main/Estat%C3%ADstica%20e%20probabilidade/4_Distribui%C3%A7%C3%A3o_de_probabilidades.ipynb\" target=\"_parent\"><img src=\"https://colab.research.google.com/assets/colab-badge.svg\" alt=\"Open In Colab\"/></a>"
      ]
    },
    {
      "cell_type": "markdown",
      "source": [
        "#<u>**Distribuição de probabilidades**</u>\n",
        "---\n",
        "Variaveis aleatorias: Valores numéricos associados a eventos aleatórios. Pode ser dividido em:\n",
        "* Discreta: número contável(inteiro) de resultados (nº de pessoas em uma sala, nº de gols em uma partida, nº de filhos...)\n",
        "* Contínua: número incontável de resultados (intervalo de tempo, temperatura, altura...)\n",
        "\n",
        "\n",
        "\n"
      ],
      "metadata": {
        "id": "dMY_HLqGtnLg"
      }
    },
    {
      "cell_type": "markdown",
      "source": [
        "## **Distribuição de probabilidades discretas:**\n",
        "Lista cada valor possível que a variável aleatória pode assumir, assim como a sua probabilidade. <br>\n",
        "Condições:\n",
        "* A probabilidade de cada valor tem que estar entre 0 e 1: $0 ≤ P(X) ≤ 1$\n",
        "* A soma das probabilidades deve ser igual a 1: $Σ P(x) = 1$\n",
        "\n",
        "|Classificacao(x)| Frequência | P(x) |\n",
        "|----------------|------------|------|                \n",
        "| 1              | 24         | 0.16 |\n",
        "| 2              | 33         | 0.22 |\n",
        "| 3              | 42         | 0.28 |\n",
        "| 4              | 30         | 0.20 |\n",
        "| 5              | 21         | 0.14 |\n",
        "| **Total**      | **150**    |  1   |\n",
        "\n",
        "$p(x) = \\Sigma \\frac{f}{f_i}$ <br>\n",
        "\n",
        "\n"
      ],
      "metadata": {
        "id": "TQQauIrSvTPL"
      }
    },
    {
      "cell_type": "markdown",
      "source": [
        "## Média de variáveis discretas\n",
        "Representa a média teórica de um experimento de probabilidade.<BR>\n",
        "$μ = \\Sigma x.P(X) $<br>\n",
        "onde: <br>\n",
        "μ - Média <br><br>\n",
        "Cada valor esperado de uma variável aleatória é igual a média e pode ser negativa. <br>\n",
        "$E(x) = μ$\n",
        "\n",
        "|Classificacao(x)| Frequência | P(x) | x.p(x) |\n",
        "|----------------|------------|------|--------|                \n",
        "| 1              | 24         | 0,16 |  0,16  |\n",
        "| 2              | 33         | 0,22 |  0,44  |\n",
        "| 3              | 42         | 0,28 |  0,84  |  \n",
        "| 4              | 30         | 0,20 |  0,80  |\n",
        "| 5              | 21         | 0,14 |  0,70  |\n",
        "| **Total**      | **150**    |  1   |  2,94  |\n",
        "\n",
        "μ = 2,94\n",
        "\n",
        "Variância de variáveis discretas: $σ^2 = \\Sigma (x-μ)^2.P(x)$ <br>\n",
        "le-se: A somatória de cada valor (x) menos a media elevado ao quadrado, e multiplica pela probabilidade de x.<br>\n",
        "Desvio padrão de variáveis discretas: $\\sigma = \\sqrt{σ^2}$<br>\n",
        "le-se:\n",
        "É a raiz quadrada da variância.\n"
      ],
      "metadata": {
        "id": "UM0zyPNa2duy"
      }
    },
    {
      "cell_type": "code",
      "source": [
        "classificacao = [1,2,3,4,5]\n",
        "px = [0.16,0.22,0.28,0.20,0.14]\n",
        "media_discreta = [0.16,0.44,0.84,0.80,0.70]\n",
        "sum(media_discreta)\n",
        "\n",
        "variancia = list(map(lambda x,y:((x-sum(media_discreta))**2)*y ,classificacao,px))\n",
        "for i in variancia:\n",
        "    print(f'{i:.3f}', end=' ')\n",
        "print()\n",
        "print(f'Variância: {sum(variancia):.3f}')\n",
        "print(f'Desvio Padrão: {sum(variancia)**0.5:.3f}')\n"
      ],
      "metadata": {
        "colab": {
          "base_uri": "https://localhost:8080/"
        },
        "id": "7tzjjtOB4_5e",
        "outputId": "124829e9-d947-458e-b4aa-04217a51ffaa"
      },
      "execution_count": null,
      "outputs": [
        {
          "output_type": "stream",
          "name": "stdout",
          "text": [
            "0.602 0.194 0.001 0.225 0.594 \n",
            "Variância: 1.616\n",
            "Desvio Padrão: 1.271\n"
          ]
        }
      ]
    },
    {
      "cell_type": "markdown",
      "source": [
        "## Distribuição Binomial\n",
        "Possibilidade de apenas dois resultados (um sucesso e um fracasso) <br>\n",
        "Tentativas idênticas e independentes.\n",
        "$P(x) = \\frac{n!}{(n-x)!x!}.p^xq^{n-x}$  <br>\n",
        "onde:<br>\n",
        "n = nº de tentaivas ou amostras.<br>\n",
        "p = probabilidade de sucesso em uma tentativa<br>\n",
        "q = probabilidade de fracasso em uma tentativa<br>\n",
        "x = variável aleatória que representa a contagem do número de sucessos. <br>\n",
        "lembrando:<br>\n",
        "fatorial = 4! = 4.3.2.1 = 24\n"
      ],
      "metadata": {
        "id": "kNw_0G7jBz80"
      }
    },
    {
      "cell_type": "markdown",
      "source": [
        "## Distribuição geométrica\n",
        "Probabilidade de repetidas tentativas até que o sucesso ocorra.<br>\n",
        "Tentativas independentes.<br>\n",
        "A probabilidade de sucesso é constante para todas as tentativas. <br>\n",
        "$p(x) = p(q)^{x-1}$ <br>\n",
        "onde:<br>\n",
        "p = probabilidade de sucesso em uma tentativa.<br>\n",
        "q = probabilidade de fracasso em uma tentativa.<br>\n",
        "x = variavel aleatória que representa o nº de falhas até o sucesso.<br>\n"
      ],
      "metadata": {
        "id": "lqKP4EnyDUSv"
      }
    },
    {
      "cell_type": "markdown",
      "source": [
        "##Distribuição de Poisson\n",
        "Número de vezes que um evento ocorre num determinado intervalo (tempo, área ou volume).<br>\n",
        "Probabilidade do evento ocorrer é a mesma para cada intervalo.<br>\n",
        "Número de ocorrências nos intervalos são independentes. <br>\n",
        "$P(x) = \\frac{μ^xe^{-μ}}{x!}$ <br>\n",
        "onde:<br>\n",
        "μ = nº médio de ocorrências (frequência)\n",
        "x = nº de ocorrência num dado intervalo"
      ],
      "metadata": {
        "id": "0SXIllWfD_im"
      }
    },
    {
      "cell_type": "markdown",
      "source": [
        "##**Distribuição de probabilidades contínuas:**\n",
        "Principal é a Distribuição normal. O gráfico é chamado de curva normal. É simétrico e tem formato de sino. <br>\n",
        "Obs: A média indica a posição e o desvio padrão indica o formato do gráfico.\n",
        "\n",
        "\n"
      ],
      "metadata": {
        "id": "OUukQy9bvh9W"
      }
    },
    {
      "cell_type": "markdown",
      "source": [
        "##Distribuições normal padrão\n",
        "Média 0 e desvio padrão 1 no grafico<br>\n",
        "$z = \\frac{x-μ}{σ} $ <br>\n",
        "le-se: $\\frac{valor de referencia - a media}{desvio padrão}$<br>\n",
        "onde: <br>\n",
        "z-escore: número de desvio padrão de um valor a partir da média. (1,-1,2...)<br><br>\n",
        "Depois de descobrir o z, precisamos consultar a tabela de distribuição normal, Mas o script abaixo ja faz isso.\n"
      ],
      "metadata": {
        "id": "cVtmwMEAxsX6"
      }
    },
    {
      "cell_type": "code",
      "source": [
        "import math\n",
        "from scipy.special import erf\n",
        "\n",
        "def calculardistribuicao (z):\n",
        "  #z = -0.5999\n",
        "  #probabilidade_acumulada =\n",
        "  return 0.5 * (1 + erf(z / math.sqrt(2)))\n",
        "\n",
        "valorZ = 1.12\n",
        "print(f'A probabilidade acumulada até {valorZ} é {calculardistribuicao(valorZ):.5}')\n",
        "print(f'A probabilidade de ser menor que {valorZ} é {calculardistribuicao(valorZ)*100:.4}%')\n",
        "print(f'A probabilidade de ser maior que {valorZ} é {(calculardistribuicao(valorZ)*100)-100:.4}%')"
      ],
      "metadata": {
        "colab": {
          "base_uri": "https://localhost:8080/"
        },
        "id": "17QXk3yM0wiP",
        "outputId": "aba46f37-32c1-4450-8fcf-6e8d4c84616b"
      },
      "execution_count": null,
      "outputs": [
        {
          "output_type": "stream",
          "name": "stdout",
          "text": [
            "A probabilidade acumulada até 1.12 é 0.86864\n",
            "A probabilidade de ser menor que 1.12 é 86.86%\n",
            "A probabilidade de ser maior que 1.12 é -13.14%\n"
          ]
        }
      ]
    },
    {
      "cell_type": "code",
      "source": [
        "#Exemplo: Um fabricante de automóveis garante que seus veículos\n",
        "#podem ser utilizados por 4,8 anos, em média, sem ter que trocar\n",
        "#nenhuma peça com desvio padrão de 0,5 anos. Um proprietário de\n",
        "#um veículo desse fabricante é selecionado de forma aleatória.\n",
        "#Qual a probabilidade de ele ter que trocar uma peça em menos de\n",
        "#4,5 anos? Considere esse problema com distribuição normal.\n",
        "\n",
        "z = (4.5-4.8)/0.5\n",
        "# usando a formula\n",
        "print(f'A probabilidade acumulada até {z} é {calculardistribuicao(z):.5}')\n",
        "print(f'A probabilidade de ser menor que {z} é {calculardistribuicao(z)*100:.4}%')\n",
        "print(f'A probabilidade de ser maior que {z} é {(calculardistribuicao(z)*100)-100:.4}%')"
      ],
      "metadata": {
        "colab": {
          "base_uri": "https://localhost:8080/"
        },
        "id": "RV7__qvY2Tyj",
        "outputId": "b32f2f6d-d616-4568-fede-033fbc8cba2c"
      },
      "execution_count": null,
      "outputs": [
        {
          "output_type": "stream",
          "name": "stdout",
          "text": [
            "A probabilidade acumulada até -0.5999999999999996 é 0.27425\n",
            "A probabilidade de ser menor que -0.5999999999999996 é 27.43%\n",
            "A probabilidade de ser maior que -0.5999999999999996 é -72.57%\n"
          ]
        }
      ]
    },
    {
      "cell_type": "markdown",
      "source": [
        "##Teorema do limite central: Distribuição Amostral\n",
        "A distribuição da média é uma distribuição aproximadamente normal, quando o tamanho amostral é suficiente grande. <br>\n",
        "\n",
        "Médias das amostras: <br>\n",
        "$μ_\\bar{x} = μ$ <br>\n",
        "le-se: A média das amostras é $=$ média de uma amostra. <br><br>\n",
        "\n",
        "Variância:<br>\n",
        "$σ\\frac{2}{X} = \\frac{σ^2}{n}$ <br>\n",
        "le-se: A variância das médias = $\\frac{variancia populacional}{numero de amostras}$<br><br>\n",
        "\n",
        "Desvio Padrão:<br>\n",
        "$σ_\\bar{x}=\\frac{σ}{\\sqrt{n}}$ <br>\n",
        "le-se: O desvio padrao das medias das amostras = $\\frac{desvio padrão}{\\sqrt{numero de amostras}}$\n",
        "\n"
      ],
      "metadata": {
        "id": "4gminqhB2RcF"
      }
    },
    {
      "cell_type": "markdown",
      "source": [
        "##Distribuição binomial - correção pela continuidade\n",
        "A distribuição bionmial é discreta, mas pode ser representada por um histograma. <br>\n",
        "condições para uma distribuição bionmial ser aproximada pela normal<br>\n",
        "* $n.p ≥ 5$\n",
        "* $n.q ≥ 5$\n",
        "\n",
        "onde:<br>\n",
        "$n$ numero de tentativas<br>\n",
        "$p$ probabilidade de sucesso.<br>\n",
        "$q$ probabilidade de fracasso<br><br>\n",
        "\n",
        "Média:<br>\n",
        "$μ =n.p$\n",
        "Desvio padrão:<br>\n",
        "$\\sigma = \\sqrt{n.p.q}$ <br>\n",
        "\n",
        "O objetivo é ter uma distribuição normal no gráfico! Que ele seja simétrico.\n",
        "\n",
        "\n"
      ],
      "metadata": {
        "id": "aMeu3Tta_Fgy"
      }
    }
  ]
}