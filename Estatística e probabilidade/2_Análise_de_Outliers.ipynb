{
  "nbformat": 4,
  "nbformat_minor": 0,
  "metadata": {
    "colab": {
      "provenance": [],
      "authorship_tag": "ABX9TyMjcyNJNxoOcTuOeQKh8k2R",
      "include_colab_link": true
    },
    "kernelspec": {
      "name": "python3",
      "display_name": "Python 3"
    },
    "language_info": {
      "name": "python"
    }
  },
  "cells": [
    {
      "cell_type": "markdown",
      "metadata": {
        "id": "view-in-github",
        "colab_type": "text"
      },
      "source": [
        "<a href=\"https://colab.research.google.com/github/andregustavoaguiar/Curso_machineLearning---Udemy/blob/main/2_An%C3%A1lise_de_Outliers.ipynb\" target=\"_parent\"><img src=\"https://colab.research.google.com/assets/colab-badge.svg\" alt=\"Open In Colab\"/></a>"
      ]
    },
    {
      "cell_type": "markdown",
      "source": [
        "#<u>**Outliers**</u>\n",
        "---\n",
        ". Dados discrepantes, dados muito diferentes pertencentes a variável em análise<br>\n",
        ". Analisar se continuarão ou se devem ser tratados no Dataset, pra nao interferir no resultado da análise<br>\n",
        ". Identificados diretamente no proprio Dataset, por grafico ou por funções especificas<br>\n",
        ". São dados que estão fora do limite superior e do limite inferior <br>\n",
        "### Resumindo: <br>\n",
        ". Os dados que estão acima do limite superior e abaixo do limite inferior são outliers\n",
        "<br>\n",
        "## Calculo da faixa de valores que limitam os outliers\n",
        "$limiteSuperior = Q3 + 1,5 * IQR$ <br>\n",
        "$limiteInferior = Q1 - 1,5 * IQR$ <br>\n",
        "onde: <br>\n",
        "$(IQR)$ = Q3 - Q1\n"
      ],
      "metadata": {
        "id": "oAjwz_kHi6Br"
      }
    },
    {
      "cell_type": "code",
      "source": [
        "q3 = 80\n",
        "q1 = 50\n",
        "iqr = q3 - q1\n",
        "limisuper = q3 + 1,5 * iqr\n",
        "limiinfer = q1 + 1,5 * iqr\n",
        "dado = 90 #outlier\n",
        "dado2 = 30 #outlier"
      ],
      "metadata": {
        "id": "E-MOPoVAi7Wl"
      },
      "execution_count": null,
      "outputs": []
    }
  ]
}