{
  "nbformat": 4,
  "nbformat_minor": 0,
  "metadata": {
    "colab": {
      "provenance": [],
      "authorship_tag": "ABX9TyN0tyiso2aJIKaFqZKUggRA",
      "include_colab_link": true
    },
    "kernelspec": {
      "name": "python3",
      "display_name": "Python 3"
    },
    "language_info": {
      "name": "python"
    }
  },
  "cells": [
    {
      "cell_type": "markdown",
      "metadata": {
        "id": "view-in-github",
        "colab_type": "text"
      },
      "source": [
        "<a href=\"https://colab.research.google.com/github/andregustavoaguiar/Curso_machineLearning---Udemy/blob/main/1_Medidas_de_tendencia_central%2C_dispers%C3%A3o_e_posi%C3%A7%C3%A3o.ipynb\" target=\"_parent\"><img src=\"https://colab.research.google.com/assets/colab-badge.svg\" alt=\"Open In Colab\"/></a>"
      ]
    },
    {
      "cell_type": "markdown",
      "source": [
        "# <u>**Medidas de tendência central**</u>\n",
        "---"
      ],
      "metadata": {
        "id": "FIMvLhCZFNyu"
      }
    },
    {
      "cell_type": "markdown",
      "source": [
        "##Média\n",
        "$\\bar{x} = (∑x/N)$<br>\n",
        "onde: <br>\n",
        "($x$) são os valores individuais na população. <br>\n",
        "($N$) total de registros\n"
      ],
      "metadata": {
        "id": "wcGsZKhnuZzd"
      }
    },
    {
      "cell_type": "code",
      "source": [
        "lista = [10,23,32,40]\n",
        "sum(lista) / (len(lista))"
      ],
      "metadata": {
        "colab": {
          "base_uri": "https://localhost:8080/"
        },
        "id": "xMRl3ukqp_9a",
        "outputId": "c25fb94d-26df-46e9-997c-347aca5dc70a"
      },
      "execution_count": null,
      "outputs": [
        {
          "output_type": "execute_result",
          "data": {
            "text/plain": [
              "26.25"
            ]
          },
          "metadata": {},
          "execution_count": 47
        }
      ]
    },
    {
      "cell_type": "markdown",
      "source": [
        "##Mediana\n",
        "Em termos simples, é o valor do meio quando os dados estão organizados em ordem crescente ou decrescente. <br>\n",
        "Se o tamanho da lista for ímpar, o objeto central: <br>\n",
        "$  \\tilde{x} = x_\\frac{n+1}{2}$<br>\n",
        "Se o tamanho da lista for par, o dois objetos centrais e divide por 2: <br>\n",
        "$  \\tilde{x} = \\frac{\\frac{n}{2} + (\\frac{n}{2}+1)}{2} = \\frac{x_n + x_n}{2} $\n",
        "\n",
        "onde: <br>\n",
        "$x_n$ é a posição do item <br>\n",
        "$n$ é o total de itens\n"
      ],
      "metadata": {
        "id": "FTTNgjJitjO-"
      }
    },
    {
      "cell_type": "code",
      "source": [
        "lista = [10,23,32,40]\n",
        "(lista[int((len(lista)-1)/2)] + lista[int((len(lista)-1)/2)+1]) / 2"
      ],
      "metadata": {
        "colab": {
          "base_uri": "https://localhost:8080/"
        },
        "id": "Q5wg_8WMIG46",
        "outputId": "291c8aa4-a609-4ed6-9b49-1a12aec745fe"
      },
      "execution_count": null,
      "outputs": [
        {
          "output_type": "execute_result",
          "data": {
            "text/plain": [
              "27.5"
            ]
          },
          "metadata": {},
          "execution_count": 48
        }
      ]
    },
    {
      "cell_type": "markdown",
      "source": [
        "##Moda\n",
        "É o valor que mais se repete em um conjunto de dados"
      ],
      "metadata": {
        "id": "vLA43TitugRe"
      }
    },
    {
      "cell_type": "code",
      "source": [
        "moda = []\n",
        "lista = [10,23,32,40,40,22,22]\n",
        "for i in lista:\n",
        "  if lista.count(i) > 1:\n",
        "    if i not in moda:\n",
        "      moda.append(i)\n",
        "print(moda)"
      ],
      "metadata": {
        "colab": {
          "base_uri": "https://localhost:8080/"
        },
        "id": "Ew8HOz7BtB0Z",
        "outputId": "6129cffb-3a95-4877-ac3c-c68f00a886a7"
      },
      "execution_count": null,
      "outputs": [
        {
          "output_type": "stream",
          "name": "stdout",
          "text": [
            "[40, 22]\n"
          ]
        }
      ]
    },
    {
      "cell_type": "markdown",
      "source": [
        "##Média ponderada\n",
        "É a média multiplicado por um dado \"peso\".<br>\n",
        "$\\bar{x}_w = \\frac{∑(x*w)}{∑w}$\n",
        "\n",
        "onde: <br>\n",
        "$(x)$ valores individuais na população. <br>\n",
        "$(w)$ Peso de cada entrada\n",
        "\n"
      ],
      "metadata": {
        "id": "omo4B7feu1cj"
      }
    },
    {
      "cell_type": "code",
      "source": [
        "notas = [80,95,82,90,100]\n",
        "peso = [0.20, 0.15, 0.50,0.1,0.05]\n",
        "lista = []\n",
        "for i in range(0,len(notas)):\n",
        "  lista.append(notas[i]*peso[i])\n",
        "medpond = sum(lista) / sum(peso)\n",
        "print(medpond)"
      ],
      "metadata": {
        "colab": {
          "base_uri": "https://localhost:8080/"
        },
        "id": "0y3qVerR0BB3",
        "outputId": "7de0aae9-bfa3-4ca6-b21d-fb535720fa97"
      },
      "execution_count": null,
      "outputs": [
        {
          "output_type": "stream",
          "name": "stdout",
          "text": [
            "85.25\n"
          ]
        }
      ]
    },
    {
      "cell_type": "markdown",
      "source": [
        "## Média de uma Distribuição de frequencia\n",
        "Representa o valor médio de uma variável quando os dados estão agrupados em classes ou intervalos. <br>\n",
        "$\\bar{x} = \\frac{∑(x.f)}{n}$<br>\n",
        "onde: <br>\n",
        "$(x)$ valores individuais do ponto medio. <br>\n",
        "$(f)$ valores individuais da frequencia. (frequência dos dados)\n",
        "\n",
        "obs: Ponto medio é a média entre o intervalo de limite inferior $(L_i)$ e superior$(U_i)$ quando os dados sao agrupados em classes ou intervalos.\n",
        "$X_i = \\frac{l_i+U_i}{2}$"
      ],
      "metadata": {
        "id": "8SGlAr6lvLix"
      }
    },
    {
      "cell_type": "code",
      "source": [
        "ponto_medio = [12.5,24.5,36.5,48.5,60.5,72.5,84.5]\n",
        "frequencia = [6,10,13,8,5,6,2]\n",
        "dist_frequencia = list(map(lambda x, y: x * y, ponto_medio, frequencia))\n",
        "media_distr_freq = sum(dist_frequencia) / sum(frequencia)\n",
        "media_distr_freq"
      ],
      "metadata": {
        "id": "IzFh-Yg_1Ri8",
        "colab": {
          "base_uri": "https://localhost:8080/"
        },
        "outputId": "441cbdb7-9f17-47e7-8f23-b442618531d4"
      },
      "execution_count": null,
      "outputs": [
        {
          "output_type": "execute_result",
          "data": {
            "text/plain": [
              "41.78"
            ]
          },
          "metadata": {},
          "execution_count": 31
        }
      ]
    },
    {
      "cell_type": "markdown",
      "source": [
        "#<u>**Medidas de dispersão e de posição**</u>\n",
        "\n",
        "---"
      ],
      "metadata": {
        "id": "KbxRUgHXF_Ut"
      }
    },
    {
      "cell_type": "markdown",
      "source": [
        "##Amplitude\n",
        "É a diiferença entre entrada máxima e mínima"
      ],
      "metadata": {
        "id": "oxU1jwKjtewH"
      }
    },
    {
      "cell_type": "code",
      "source": [
        "lista = [41,38,39,45,47,41,44,41,37,42]\n",
        "max(lista) - min(lista)"
      ],
      "metadata": {
        "colab": {
          "base_uri": "https://localhost:8080/"
        },
        "id": "0aFxut9S3LdV",
        "outputId": "d11e4748-514b-4617-e464-644e12562ec6"
      },
      "execution_count": null,
      "outputs": [
        {
          "output_type": "execute_result",
          "data": {
            "text/plain": [
              "10"
            ]
          },
          "metadata": {},
          "execution_count": 9
        }
      ]
    },
    {
      "cell_type": "markdown",
      "source": [
        "##Disperção da média:\n",
        "O quanto os dados de uma população estão dispersos em torno da média populacional.:"
      ],
      "metadata": {
        "id": "WKPZLG3bt5Su"
      }
    },
    {
      "cell_type": "markdown",
      "source": [
        "##Desvio Populacional\n",
        "$(x-μ)$ <br>\n",
        "onde: <br>\n",
        "$(x)$  individuais do ponto medio.<br>\n",
        "$(μ)$ Média dos valores do ponto medio.\n"
      ],
      "metadata": {
        "id": "aMzx2-UC6Q62"
      }
    },
    {
      "cell_type": "code",
      "source": [
        "lista = [41,38,39,45,47,41,44,41,37,42]\n",
        "media_lista = sum(lista) / len(lista)\n",
        "desvio_populacional = [i - media_lista for i in lista]\n",
        "print(desvio_populacional)"
      ],
      "metadata": {
        "colab": {
          "base_uri": "https://localhost:8080/"
        },
        "id": "hgSqBXab3Sik",
        "outputId": "f5ae3956-6e1f-4474-96cf-392161cde84c"
      },
      "execution_count": null,
      "outputs": [
        {
          "output_type": "stream",
          "name": "stdout",
          "text": [
            "[-0.5, -3.5, -2.5, 3.5, 5.5, -0.5, 2.5, -0.5, -4.5, 0.5]\n"
          ]
        },
        {
          "output_type": "execute_result",
          "data": {
            "text/plain": [
              "0.0"
            ]
          },
          "metadata": {},
          "execution_count": 1
        }
      ]
    },
    {
      "cell_type": "markdown",
      "source": [
        "##Variância Populacional\n",
        "$ σ^2 = \\frac{∑(x - μ)^2}{N}$<br>\n",
        "onde: <br>\n",
        "$(x - μ)$ desvio populacional <br>\n",
        "$(N)$ total de registros\n"
      ],
      "metadata": {
        "id": "GxFs9pxv6lHe"
      }
    },
    {
      "cell_type": "code",
      "source": [
        "valores = [41,38,39,45,47,41,44,41,37,42]\n",
        "media_valores = sum(valores) / len(valores)\n",
        "desvio =list(map(lambda x: x - media_valores, valores))\n",
        "variancia_populacional = list(map(lambda x: x ** 2, desvio))\n",
        "variancia_populacional = sum(variancia_populacional) / (len(valores))\n",
        "print(f'{variancia_populacional:.2f}')"
      ],
      "metadata": {
        "colab": {
          "base_uri": "https://localhost:8080/"
        },
        "id": "1fC__82A9pVW",
        "outputId": "aa818759-06a4-4565-d036-bc774335290a"
      },
      "execution_count": null,
      "outputs": [
        {
          "output_type": "stream",
          "name": "stdout",
          "text": [
            "8.85\n"
          ]
        }
      ]
    },
    {
      "cell_type": "markdown",
      "source": [
        "##Desvio padrão Populacional\n",
        "$σ = \\sqrt{σ^2}$"
      ],
      "metadata": {
        "id": "TT5JDGpN8JlV"
      }
    },
    {
      "cell_type": "code",
      "source": [
        "print(f'{variancia_populacional**0.5:.2f}')"
      ],
      "metadata": {
        "colab": {
          "base_uri": "https://localhost:8080/"
        },
        "id": "3MSwk98MA5Nj",
        "outputId": "02488e8d-fba9-4b21-ada3-e82d25123a9e"
      },
      "execution_count": null,
      "outputs": [
        {
          "output_type": "stream",
          "name": "stdout",
          "text": [
            "2.97\n"
          ]
        }
      ]
    },
    {
      "cell_type": "markdown",
      "source": [
        "##Amostra da média:\n",
        "é uma estimativa da disersão"
      ],
      "metadata": {
        "id": "geI-7jD4vAIr"
      }
    },
    {
      "cell_type": "markdown",
      "source": [
        "##Variância Amostral\n",
        "$S^2 = \\frac{∑(x - \\bar{x})^2}{n - 1} $<br>\n",
        "<!-- ### $ σ = \\sqrt{σ}$ -->\n",
        "onde: <br>\n",
        "($x$) São os valores individuais na amostragem. <br>\n",
        "($\\bar{x}$) media da amostragem. <br>\n",
        "$(n-1)$ grau de liberdade - Aproxima a variança amostral da variança populacional(real)."
      ],
      "metadata": {
        "id": "zUUjmSml-eKR"
      }
    },
    {
      "cell_type": "code",
      "source": [
        "valores = [41,38,39,45,47,41,44,41,37,42]\n",
        "media_valores = sum(valores) / len(valores)\n",
        "desvio =list(map(lambda x: x - media_valores, valores))\n",
        "variancia_amostral = list(map(lambda x: x ** 2, desvio))\n",
        "variancia_amostral = sum(variancia_amostral) / (len(valores) - 1)\n",
        "print(f'{variancia_amostral:.2f}')"
      ],
      "metadata": {
        "colab": {
          "base_uri": "https://localhost:8080/"
        },
        "id": "Z_2dAMYrnsMZ",
        "outputId": "7decf7f7-0d8d-422f-f8d8-b8e9c975d075"
      },
      "execution_count": null,
      "outputs": [
        {
          "output_type": "stream",
          "name": "stdout",
          "text": [
            "9.83\n"
          ]
        }
      ]
    },
    {
      "cell_type": "markdown",
      "source": [
        "##Desvio padrão Amostral\n",
        "Raiz da variancia amostral\n",
        "$S = \\sqrt{S^2}$\n",
        "<br>"
      ],
      "metadata": {
        "id": "RALZGpnoEjIA"
      }
    },
    {
      "cell_type": "code",
      "source": [
        "print(f'{variancia_amostral ** 0.5:.2f}')\n"
      ],
      "metadata": {
        "colab": {
          "base_uri": "https://localhost:8080/"
        },
        "id": "eFX8PeE-F2oz",
        "outputId": "efbb43a1-19a9-47b0-f360-128553b762e2"
      },
      "execution_count": null,
      "outputs": [
        {
          "output_type": "stream",
          "name": "stdout",
          "text": [
            "3.14\n"
          ]
        }
      ]
    },
    {
      "cell_type": "markdown",
      "source": [
        "## Distribuição Não simétrica\n",
        "Até agora foi distribuição simétrica, 1S = 68%, 2S = 27% e 3S = 2,35%. Para <u>distribuição Não simétrica</u>, usar o Teorema de Chebychev:\n",
        "$m= 1 - \\frac{1}{k^2}$ <br>\n",
        "$(m)$ percentual dos dados<br>\n",
        "$(k)$ numero de desvios padroes > 1\n"
      ],
      "metadata": {
        "id": "c3RzFFgGLKqD"
      }
    },
    {
      "cell_type": "markdown",
      "source": [
        "##Média para dados agrupados\n",
        "$\\bar{x} = {\\frac{Σ(f)}{Σ(x.f)}} $ <br>\n",
        "onde: <br>\n",
        "$(f)$ frequencia em que os dados aparecem <br>\n",
        "$(x)$ valores <br>\n"
      ],
      "metadata": {
        "id": "4s0AUaLFQmpY"
      }
    },
    {
      "cell_type": "code",
      "source": [
        "valores = [0,1,2,3,4,5,6]\n",
        "frequencia = [10,19,7,7,2,1,4]\n",
        "xf = list(map(lambda x,y:x*y, valores, frequencia ))\n",
        "media = sum(xf) / sum(frequencia)\n",
        "media = 1.8"
      ],
      "metadata": {
        "id": "OstTBHWkR_iu"
      },
      "execution_count": null,
      "outputs": []
    },
    {
      "cell_type": "code",
      "source": [],
      "metadata": {
        "id": "XLP--npyR_f5"
      },
      "execution_count": null,
      "outputs": []
    },
    {
      "cell_type": "markdown",
      "source": [
        "##Desvio padrão para dados agrupados\n",
        "$S = \\sqrt{\\frac{Σ(x - \\bar{x})^2.f}{n - 1}} $ <br>\n",
        "onde: <br>\n",
        "$(x)$ dados <br>\n",
        "$(\\bar{x})$ media <br>\n",
        "$(f)$ frequencia <br>\n",
        "$(n - 1)$ grau de liberdade"
      ],
      "metadata": {
        "id": "ZPNSqQPlOwwL"
      }
    },
    {
      "cell_type": "code",
      "source": [
        "s2 = list(map(lambda x, f :((x - media)**2) * f, valores,frequencia))\n",
        "print(f'{(sum(s2) / (sum(frequencia) - 1)) ** 0.5:.2f}')"
      ],
      "metadata": {
        "id": "WvGajghoF6V-",
        "colab": {
          "base_uri": "https://localhost:8080/"
        },
        "outputId": "ada9bb5e-4684-42d8-d954-ca98d5001516"
      },
      "execution_count": null,
      "outputs": [
        {
          "output_type": "stream",
          "name": "stdout",
          "text": [
            "1.72\n"
          ]
        }
      ]
    },
    {
      "cell_type": "markdown",
      "source": [
        "##Medidas de posição\n",
        "Divisão do conjunto de dados em partes iguais (Quartis, percentis, Mediana...)\n",
        "Quartis - divide o conjunto de dados em 4 partes iguais (qnt de dados iguais em cada parte)  <br>\n",
        "\n",
        "---------|------------------------|----------------|-----------------|---------------|--------------- <br>\n",
        "limiteInferior-----------Q1---------mediana------Q3-------limiteSuperior\n",
        "\n",
        "<br>\n",
        "Obs: Para achar as posições, primeiro precisamos colocar a lista em ordem crescente <br>\n",
        "Depois fazer a formula para descobrir a Amplitude Interquartil:<br>\n",
        "$IQR = Q_3 - Q_1$"
      ],
      "metadata": {
        "id": "Uvknd-1uRh7t"
      }
    },
    {
      "cell_type": "code",
      "source": [
        "lista = [5,7,9,10,11,13,14,15,16,17,18,18,20,21,37]\n",
        "lista_ordenada = sorted(lista)\n",
        "q1 = lista_ordenada[len(lista) // 4]      #Q1\n",
        "q2 = lista_ordenada[len(lista) // 2]      #Q2 Mediana\n",
        "q3 = lista_ordenada[len(lista) * 3 // 4]  #Q3\n",
        "print(f'Q1 = {q1} / Q2(mediana) = {q2} / Q3 = {q3}')\n",
        "iqr = q3 - q1\n",
        "print(f'IQR = {iqr}')"
      ],
      "metadata": {
        "id": "PWSwduKeMOpw",
        "colab": {
          "base_uri": "https://localhost:8080/"
        },
        "outputId": "11ab68b0-ae82-44a6-85d5-e264c0806820"
      },
      "execution_count": null,
      "outputs": [
        {
          "output_type": "stream",
          "name": "stdout",
          "text": [
            "Q1 = 10 / Q2(mediana) = 15 / Q3 = 18\n",
            "IQR = 8\n"
          ]
        }
      ]
    },
    {
      "cell_type": "markdown",
      "source": [],
      "metadata": {
        "id": "PoGBqC6eAkGt"
      }
    },
    {
      "cell_type": "code",
      "source": [],
      "metadata": {
        "id": "TOOONWL_Tp4n"
      },
      "execution_count": null,
      "outputs": []
    }
  ]
}